{
 "cells": [
  {
   "cell_type": "markdown",
   "metadata": {},
   "source": [
    "## Control Systems Cat"
   ]
  },
  {
   "cell_type": "markdown",
   "metadata": {},
   "source": [
    "Use the peaks of the peaks of the waves."
   ]
  },
  {
   "attachments": {
    "image.png": {
     "image/png": "[encoded data removed]"
    }
   },
   "cell_type": "markdown",
   "metadata": {},
   "source": [
    "![image.png](attachment:image.png)"
   ]
  },
  {
   "cell_type": "markdown",
   "metadata": {},
   "source": [
    "In the above picture we can see the voltage input is 495mV and voltage input is 20.25mV. Let's Calculate gain:"
   ]
  },
  {
   "cell_type": "code",
   "execution_count": 39,
   "metadata": {},
   "outputs": [],
   "source": [
    "def gain_calutation(voltage_output,voltage_input):\n",
    "  \"\"\" Converts Voltage input and ouput to V\n",
    "      Calculates Gain = Vout/Vin\n",
    "\n",
    "      Voltages should be mV\n",
    "\n",
    "      Returns:\n",
    "      Gain\n",
    "  \"\"\"\n",
    "  # Convert mV to V\n",
    "  voltage_input = voltage_input/1000\n",
    "  voltage_output = voltage_output/1000\n",
    "\n",
    "  gain = voltage_output/voltage_input\n",
    "  print(\"Gain is: \")\n",
    "  print(f\"{gain:.6f}\")"
   ]
  },
  {
   "cell_type": "code",
   "execution_count": 40,
   "metadata": {},
   "outputs": [
    {
     "name": "stdout",
     "output_type": "stream",
     "text": [
      "Gain is: \n",
      "0.041919\n"
     ]
    }
   ],
   "source": [
    "gain_calutation(20.75, 495) # 1 frequency"
   ]
  },
  {
   "cell_type": "markdown",
   "metadata": {},
   "source": [
    "For these functions note that velcocity is given by $$vel = \\frac{1}{\\sqrt{L \\cdot C}}$$\n"
   ]
  },
  {
   "cell_type": "code",
   "execution_count": 41,
   "metadata": {},
   "outputs": [],
   "source": [
    "def wavelength_x_phi_calculation(freq, vin_time,vout_time,vel=854982):\n",
    "  \"\"\"\n",
    "  This function calculates wavalength, phase difference x and phase difference phi\n",
    "  \n",
    "  Parameters:\n",
    "  Freq(int): Frequency in HZ\n",
    "  vin_time(int): time in secs at the peakk of the input signal\n",
    "  vout_time(int): time in secs at the peakk of the output signal\n",
    "\n",
    "\n",
    "  Part 1\n",
    "  Calculates the wavelength of the wave given the velocity is given:\n",
    "\n",
    "    wavelength = velocity(cm/s) * Frequency\n",
    "\n",
    "    Frequency value should be in HZ\n",
    "  \n",
    "  Part 2 \n",
    "  Calculates phase difference in cm:\n",
    "  x = v * Δt\n",
    "\n",
    "  Δt is the difference between peaks of the waves in our case is 227.50 - 3.25\n",
    "  \n",
    "  converts time to s so the time should be given in ms\n",
    "\n",
    "  Part 3\n",
    "  Calculates phase difference phi \n",
    "  360* x/wavelength\n",
    "\n",
    "  Returns:\n",
    "  (tuple): Wavelength, Phase difference in cm and Phase difference in degrees\n",
    "  \"\"\"\n",
    "  # Part 1\n",
    "  wavelength = vel * freq\n",
    "  print(\"Wavelength is:\")\n",
    "  print(f\"{wavelength:.2f}\")\n",
    "\n",
    "  #Part 2\n",
    "  # converting vin_time and vou_time to s\n",
    "  vin_time = vin_time/1000\n",
    "  vout_time = vout_time/1000\n",
    "\n",
    "  # to avoid negatives\n",
    " \n",
    "  time_change = vin_time - vout_time\n",
    "\n",
    "\n",
    "  x = vel * time_change\n",
    "  print(\"Phase difference x:\")\n",
    "  print(f\"{x:.2f}\")\n",
    "  \n",
    "  # Part 3\n",
    "  phase_diff_phi = 360 * (x/wavelength)\n",
    "  print(\"phase_diff_phi is :\")\n",
    "  print(f\"{phase_diff_phi:.8f}\")\n",
    "\n",
    "  return wavelength, x, phase_diff_phi\n",
    "  "
   ]
  },
  {
   "cell_type": "code",
   "execution_count": 42,
   "metadata": {},
   "outputs": [
    {
     "name": "stdout",
     "output_type": "stream",
     "text": [
      "Wavelength is:\n",
      "854982.00\n",
      "Phase difference x:\n",
      "191729.71\n",
      "phase_diff_phi is :\n",
      "80.73000000\n"
     ]
    },
    {
     "data": {
      "text/plain": [
       "(854982, 191729.7135, 80.73)"
      ]
     },
     "execution_count": 42,
     "metadata": {},
     "output_type": "execute_result"
    }
   ],
   "source": [
    "wavelength_x_phi_calculation(1,227.50,3.25)"
   ]
  },
  {
   "cell_type": "code",
   "execution_count": null,
   "metadata": {},
   "outputs": [
    {
     "name": "stdout",
     "output_type": "stream",
     "text": [
      "Gain is: \n",
      "0.600000\n",
      "Wavelength is:\n",
      "85498200000.00\n",
      "Phase difference x:\n",
      "-1.26\n",
      "phase_diff_phi is :\n",
      "-0.00000001\n"
     ]
    },
    {
     "data": {
      "text/plain": [
       "(85498200000, -1.2568235400000007, -5.292000000000003e-09)"
      ]
     },
     "execution_count": 43,
     "metadata": {},
     "output_type": "execute_result"
    }
   ],
   "source": [
    "gain_calutation(300, 500)\n",
    "wavelength_x_phi_calculation(100000, 0.00244, 0.00391)"
   ]
  },
  {
   "cell_type": "code",
   "execution_count": null,
   "metadata": {},
   "outputs": [],
   "source": []
  }
 ],
 "metadata": {
  "kernelspec": {
   "display_name": "Python 3",
   "language": "python",
   "name": "python3"
  },
  "language_info": {
   "codemirror_mode": {
    "name": "ipython",
    "version": 3
   },
   "file_extension": ".py",
   "mimetype": "text/x-python",
   "name": "python",
   "nbconvert_exporter": "python",
   "pygments_lexer": "ipython3",
   "version": "3.10.5"
  }
 },
 "nbformat": 4,
 "nbformat_minor": 2
}
